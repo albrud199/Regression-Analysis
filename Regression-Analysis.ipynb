{
  "nbformat": 4,
  "nbformat_minor": 0,
  "metadata": {
    "colab": {
      "provenance": []
    },
    "kernelspec": {
      "name": "python3",
      "display_name": "Python 3"
    },
    "language_info": {
      "name": "python"
    }
  },
  "cells": [
    {
      "cell_type": "markdown",
      "source": [
        "# Group Members\n",
        "1. **Hassan Ahmed Shawon**\n",
        "2. **Yeamin Sultana**\n",
        "3. **Albin Israt**\n",
        "4. **Mahmud Saleh Ove**"
      ],
      "metadata": {
        "id": "yrfpBjyRXWZP"
      }
    },
    {
      "cell_type": "code",
      "source": [
        "import pandas as pd\n",
        "import numpy as np\n",
        "import matplotlib.pyplot as plt\n",
        "from scipy import stats\n",
        "import seaborn as sns\n",
        "from sklearn.linear_model import LinearRegression\n",
        "from scipy import stats\n",
        "import statsmodels.api as sm\n",
        "import statsmodels.formula.api as smf\n",
        "\n"
      ],
      "metadata": {
        "id": "rhpBtflccMB2"
      },
      "execution_count": null,
      "outputs": []
    },
    {
      "cell_type": "markdown",
      "source": [
        "# Data preprocessing"
      ],
      "metadata": {
        "id": "bPAaVJfsWr62"
      }
    },
    {
      "cell_type": "markdown",
      "source": [
        "# **Step 1**: Load the Dataset\n",
        "\n",
        "---\n",
        "\n"
      ],
      "metadata": {
        "id": "aDIcBq-5XTWZ"
      }
    },
    {
      "cell_type": "code",
      "source": [
        "# Load CSV file\n",
        "df = pd.read_csv(\"/content/drive/MyDrive/student_survey.csv\")\n"
      ],
      "metadata": {
        "id": "r7hwK9-Kasul"
      },
      "execution_count": null,
      "outputs": []
    },
    {
      "cell_type": "code",
      "source": [
        "# from google.colab import drive\n",
        "# drive.mount('/content/drive')"
      ],
      "metadata": {
        "id": "pu1QMrMax_TH"
      },
      "execution_count": null,
      "outputs": []
    },
    {
      "cell_type": "code",
      "source": [
        "df.shape\n"
      ],
      "metadata": {
        "id": "eOEqtXEpW-eH"
      },
      "execution_count": null,
      "outputs": []
    },
    {
      "cell_type": "code",
      "source": [
        "df.info()"
      ],
      "metadata": {
        "id": "xIaclskLXOuG"
      },
      "execution_count": null,
      "outputs": []
    },
    {
      "cell_type": "code",
      "source": [
        "df.sample(10)"
      ],
      "metadata": {
        "id": "HdutO_MYW-am"
      },
      "execution_count": null,
      "outputs": []
    },
    {
      "cell_type": "code",
      "source": [
        "df.isnull().sum()"
      ],
      "metadata": {
        "id": "ysIHmkoiW-V-"
      },
      "execution_count": null,
      "outputs": []
    },
    {
      "cell_type": "markdown",
      "source": [
        "\n",
        "# **Step 2:** Handle Missing Values\n",
        "\n",
        "\n",
        "# **Step 3**: Encode Categorical Variables"
      ],
      "metadata": {
        "id": "PdTB2fV5gFNG"
      }
    },
    {
      "cell_type": "code",
      "source": [
        "\n",
        "# Map categorical columns to numeric and **replace original columns**\n",
        "df[\"Year_of_Study\"] = df[\"Year_of_Study\"].map({\"1st\":1, \"2nd\":2, \"3rd\":3, \"4th\":4})\n",
        "df[\"Gender\"] = df[\"Gender\"].map({\"Male\":1, \"Female\":0})\n",
        "df[\"Extracurricular_pariticipation\"] = df[\"Extracurricular_pariticipation\"].map({\"Yes\":1, \"No\":0})\n",
        "df[\"PartTime_Job_Status\"] = df[\"PartTime_Job_Status\"].map({\"Yes\":1, \"No\":0})\n",
        "\n",
        "# Remove rows where \"Year of Study\" is missing\n",
        "df = df.dropna(subset=[\"Year_of_Study\"])\n",
        "\n",
        "# fill empty CGPA with CGPA Mean\n",
        "df[\"CGPA\"]= df[\"CGPA\"].fillna(df[\"CGPA\"].mean())\n",
        "df[\"Extracurricular_Hours\"]= df[\"Extracurricular_Hours\"].fillna(value= 0)\n",
        "df[\"PartTime_Job_Hours\"]= df[\"PartTime_Job_Hours\"].fillna(value=0)\n",
        "\n",
        "# Summary statistics (include='all' shows both numbers + categorical columns)\n",
        "print(\"\\nSummary statistics:\")\n",
        "df.describe(include='all')\n"
      ],
      "metadata": {
        "id": "FJoim7fysE2O"
      },
      "execution_count": null,
      "outputs": []
    },
    {
      "cell_type": "markdown",
      "source": [
        "# Ensure No Missing Values"
      ],
      "metadata": {
        "id": "r0OuX83OX-v_"
      }
    },
    {
      "cell_type": "code",
      "source": [
        "df.isnull().sum()"
      ],
      "metadata": {
        "id": "63MHWSEEqr34"
      },
      "execution_count": null,
      "outputs": []
    },
    {
      "cell_type": "markdown",
      "source": [
        "# EDA\n",
        "Univariate and Bivariate\n",
        "1. Histograms / displot\n",
        "2. Boxplots"
      ],
      "metadata": {
        "id": "GDujSKkPV9EY"
      }
    },
    {
      "cell_type": "code",
      "source": [
        "import matplotlib.pyplot as plt\n",
        "import seaborn as sns\n",
        "\n",
        "numeric_cols = [\n",
        "    \"Age\",\"CGPA\",\"Year_of_Study\",\"Study_Hours_per_Week\",\"Sleep_Quality\",\n",
        "    \"Sleep_Hours\",\"Anxiety_Level\",\"Stress_Level\",\"PartTime_Job_Hours\",\n",
        "    \"Extracurricular_Hours\",\"Credits_Enrolled\"\n",
        "]\n",
        "\n",
        "# Create a 5x5 grid\n",
        "fig, axes = plt.subplots(5, 5, figsize=(20, 20))\n",
        "axes = axes.flatten()\n",
        "\n",
        "for i, col in enumerate(numeric_cols):\n",
        "    sns.histplot(df[col].dropna(), bins=20, kde=True, ax=axes[i], color=\"#4ECDC4\")\n",
        "    axes[i].set_title(f\"Distribution of {col}\", fontsize=12)\n",
        "    axes[i].set_xlabel(col, fontsize=10)\n",
        "    axes[i].set_ylabel(\"Count\", fontsize=10)\n",
        "\n",
        "# Hide unused subplots\n",
        "for j in range(len(numeric_cols), len(axes)):\n",
        "    axes[j].axis(\"off\")\n",
        "\n",
        "plt.tight_layout()\n",
        "plt.show()\n"
      ],
      "metadata": {
        "id": "DYILjnPgfMVD"
      },
      "execution_count": null,
      "outputs": []
    },
    {
      "cell_type": "markdown",
      "source": [
        "# Scatter Plots"
      ],
      "metadata": {
        "id": "XSO2g6mvZ2Vm"
      }
    },
    {
      "cell_type": "code",
      "source": [
        "\n",
        "relationships = [\n",
        "    (\"Stress_Level\", \"Year_of_Study\"),\n",
        "    (\"CGPA\", \"Gender\"),\n",
        "    (\"Stress_Level\", \"PartTime_Job_Status\"),\n",
        "    (\"Stress_Level\", \"Study_Hours_per_Week\"),\n",
        "    (\"Sleep_Quality\", \"Anxiety_Level\"),\n",
        "    (\"Sleep_Hours\", \"Anxiety_Level\"),\n",
        "    (\"Anxiety_Level\", \"Year_of_Study\")\n",
        "]\n",
        "\n",
        "fig, axes = plt.subplots(3, 3, figsize=(18, 12))\n",
        "axes = axes.flatten()\n",
        "\n",
        "for i, (y, x) in enumerate(relationships):\n",
        "    # Points colored by x (blue)\n",
        "    axes[i].scatter(df[x], df[y], color='blue', alpha=0.6, s=50, label=f'{x} (x-axis)')\n",
        "\n",
        "    # Overlay points colored by y (orange)\n",
        "    axes[i].scatter(df[x], df[y], color='orange', alpha=0.4, s=50, label=f'{y} (y-axis)')\n",
        "\n",
        "    axes[i].set_title(f\"{y} vs {x}\", fontsize=12)\n",
        "    axes[i].set_xlabel(x, fontsize=10)\n",
        "    axes[i].set_ylabel(y, fontsize=10)\n",
        "    axes[i].legend(fontsize=8)\n",
        "\n",
        "# Hide unused subplots\n",
        "for j in range(i+1, len(axes)):\n",
        "    axes[j].axis('off')\n",
        "\n",
        "plt.tight_layout()\n",
        "plt.show()\n"
      ],
      "metadata": {
        "id": "gfJJ7JybZ5mV"
      },
      "execution_count": null,
      "outputs": []
    },
    {
      "cell_type": "markdown",
      "source": [
        "# Detect Outliers"
      ],
      "metadata": {
        "id": "xAJnUi1an1F7"
      }
    },
    {
      "cell_type": "code",
      "source": [
        "\n",
        "import matplotlib.pyplot as plt\n",
        "import seaborn as sns\n",
        "\n",
        "num_cols = df.select_dtypes(include=['number']).columns\n",
        "\n",
        "fig, axes = plt.subplots(3, 3, figsize=(15, 12))  # adjust figsize as needed\n",
        "axes = axes.flatten()  # flatten to 1D for easy indexing\n",
        "\n",
        "for i, col in enumerate(num_cols[:9]):  # take first 9 numeric columns\n",
        "    sns.boxplot(y=df[col], color=\"#4ECDC4\", ax=axes[i])\n",
        "    axes[i].set_title(f'Box Plot for {col}')\n",
        "\n",
        "for j in range(len(num_cols), 9):\n",
        "    fig.delaxes(axes[j])\n",
        "\n",
        "plt.tight_layout()\n",
        "plt.show()\n"
      ],
      "metadata": {
        "id": "59S3YdhEm_Bh"
      },
      "execution_count": null,
      "outputs": []
    },
    {
      "cell_type": "markdown",
      "source": [
        "Remove Outliers\n",
        "\n",
        "Values below the lower bound are replaced with the lower bound.\n",
        "\n",
        "Values above the upper bound are replaced with the upper bound."
      ],
      "metadata": {
        "id": "FEmzLvMknm0i"
      }
    },
    {
      "cell_type": "code",
      "source": [
        "for col in num_cols:\n",
        "    Q1 = df[col].quantile(0.25)\n",
        "    Q3 = df[col].quantile(0.75)\n",
        "    IQR = Q3 - Q1\n",
        "    lower_bound = Q1 - 1.5 * IQR\n",
        "    upper_bound = Q3 + 1.5 * IQR\n",
        "\n",
        "    # Capping\n",
        "    df[col] = np.where(df[col] < lower_bound, lower_bound, df[col])\n",
        "    df[col] = np.where(df[col] > upper_bound, upper_bound, df[col])"
      ],
      "metadata": {
        "id": "9XxI016Un5mb"
      },
      "execution_count": null,
      "outputs": []
    },
    {
      "cell_type": "code",
      "source": [
        "num_cols = df.select_dtypes(include=['number']).columns\n",
        "\n",
        "for col in num_cols:\n",
        "    plt.figure(figsize=(6, 4))\n",
        "    sns.boxplot(y=df[col], color='yellow')\n",
        "    plt.title(f'Box Plot for {col}', fontsize=12, weight='bold')\n",
        "    plt.ylabel(col)\n",
        "    plt.tight_layout()\n",
        "    plt.show()"
      ],
      "metadata": {
        "id": "a2-SsowKoNVD",
        "collapsed": true
      },
      "execution_count": null,
      "outputs": []
    },
    {
      "cell_type": "markdown",
      "source": [
        "# Feature Scaling by Standardization Process"
      ],
      "metadata": {
        "id": "sbgeKf4Moyzr"
      }
    },
    {
      "cell_type": "code",
      "source": [
        "from sklearn.preprocessing import StandardScaler\n",
        "scaler = StandardScaler()\n",
        "df[numeric_cols] = scaler.fit_transform(df[numeric_cols])"
      ],
      "metadata": {
        "id": "-gFnkmRqALmR"
      },
      "execution_count": null,
      "outputs": []
    },
    {
      "cell_type": "markdown",
      "source": [
        "# Heat Map for Correlation"
      ],
      "metadata": {
        "id": "iwz6xn2mYkI2"
      }
    },
    {
      "cell_type": "code",
      "source": [
        "\n",
        "plt.figure(figsize=(18, 8))\n",
        "sns.heatmap(df.corr(), annot=True, cmap='coolwarm')\n",
        "plt.title('Correlation Heatmap')\n",
        "plt.show()"
      ],
      "metadata": {
        "id": "NDkqjpvOFxE1"
      },
      "execution_count": null,
      "outputs": []
    },
    {
      "cell_type": "markdown",
      "source": [
        "# These are our best 10 models based on Correlation HeatMap"
      ],
      "metadata": {
        "id": "GHMjM8EhRotL"
      }
    },
    {
      "cell_type": "code",
      "source": [
        "\n",
        "# SIMPLE MODELS\n",
        "simple_models = [\n",
        "    # 5 (strongest correlations)\n",
        "    ('Year_of_Study', 'Age'),\n",
        "    ('Extracurricular_Hours', 'Extracurricular_pariticipation'),\n",
        "    ('PartTime_Job_Hours', 'PartTime_Job_Status'),\n",
        "    ('Anxiety_Level', 'Stress_Level'),\n",
        "    ('Sleep_Quality', 'Sleep_Hours'),\n",
        "\n",
        "    # 5 (moderate to weak correlations)\n",
        "    ('Year_of_Study', 'Stress_Level'),\n",
        "    ('Anxiety_Level', 'Gender'),\n",
        "    ('Sleep_Hours', 'Stress_Level'),\n",
        "    ('CGPA', 'Age'),\n",
        "    ('Sleep_Quality', 'Gender')\n",
        "]\n",
        "\n",
        "\n",
        "# MULTIPLE MODELS\n",
        "\n",
        "multiple_models = [\n",
        "    # 5 (based on higher correlations)\n",
        "    ('Stress_Level', ['Anxiety_Level','Year_of_Study','Sleep_Hours']),\n",
        "    ('Sleep_Quality', ['Sleep_Hours','Anxiety_Level','Stress_Level']),\n",
        "    ('Anxiety_Level', ['Stress_Level','Sleep_Hours','Gender']),\n",
        "    ('PartTime_Job_Hours', ['PartTime_Job_Status','Age','Sleep_Quality']),\n",
        "    ('Extracurricular_Hours', ['Extracurricular_pariticipation','Year_of_Study','PartTime_Job_Status']),\n",
        "\n",
        "    # 5 (medium correlations)\n",
        "    ('Year_of_Study', ['Age','Stress_Level','PartTime_Job_Status']),\n",
        "    ('Sleep_Hours', ['Stress_Level','Anxiety_Level','CGPA']),\n",
        "    ('CGPA', ['Study_Hours_per_Week','Age','Sleep_Quality']),\n",
        "    ('Credits_Enrolled', ['Year_of_Study','PartTime_Job_Status','Stress_Level']),\n",
        "    ('Extracurricular_pariticipation', ['Extracurricular_Hours','Gender','Sleep_Hours'])\n",
        "]\n",
        "\n",
        "\n",
        "# Function to fit and print results\n",
        "def fit_and_print(formula, df):\n",
        "    model = smf.ols(formula=formula, data=df).fit()\n",
        "    print(\"=== Model:\", formula, \"===\")\n",
        "    print(model.summary())\n",
        "    print(\"\\nR-squared: {:.3f}\\n\".format(model.rsquared))\n",
        "    return model\n",
        "\n",
        "\n",
        "# Run all models\n",
        "simple_fitted = {}\n",
        "print(\"\\n### SIMPLE LINEAR MODELS ###\\n\")\n",
        "for target, pred in simple_models:\n",
        "    f = f\"{target} ~ {pred}\"\n",
        "    simple_fitted[f] = fit_and_print(f, df)\n",
        "\n",
        "multiple_fitted = {}\n",
        "print(\"\\n### MULTIPLE LINEAR MODELS ###\\n\")\n",
        "for target, preds in multiple_models:\n",
        "    rhs = \" + \".join(preds)\n",
        "    f = f\"{target} ~ {rhs}\"\n",
        "    multiple_fitted[f] = fit_and_print(f, df)\n",
        "\n"
      ],
      "metadata": {
        "id": "lsGQDjpZNDaC"
      },
      "execution_count": null,
      "outputs": []
    },
    {
      "cell_type": "code",
      "source": [
        "\n",
        "# ---- Function for simple regression scatterplot\n",
        "def plot_simple_regression(ax, df, target, predictor, model):\n",
        "    sns.scatterplot(x=df[predictor], y=df[target], color=\"blue\", alpha=0.6, ax=ax, s=30)\n",
        "    pred_vals = model.predict(df[[predictor]])\n",
        "    sns.lineplot(x=df[predictor], y=pred_vals, color=\"red\", ax=ax)\n",
        "    ax.set_title(f\"Regression: {target} vs {predictor}\", fontsize=10)\n",
        "    ax.set_xlabel(predictor, fontsize=8)\n",
        "    ax.set_ylabel(target, fontsize=8)\n",
        "\n",
        "# ---- Function for multiple regression scatterplot (Actual vs Predicted)\n",
        "def plot_multiple_regression(ax, df, target, predictors, model):\n",
        "    predicted = model.predict(df)\n",
        "    sns.scatterplot(x=predicted, y=df[target], alpha=0.6, color=\"blue\", ax=ax, s=30)\n",
        "    min_val, max_val = df[target].min(), df[target].max()\n",
        "    ax.plot([min_val, max_val], [min_val, max_val], color=\"red\", linestyle=\"--\")\n",
        "    pred_str = \" + \".join(predictors)  # use all predictor names\n",
        "    ax.set_title(f\"{target} ~ {pred_str}\", fontsize=10)\n",
        "    ax.set_xlabel(\"Predicted\", fontsize=8)\n",
        "    ax.set_ylabel(\"Actual\", fontsize=8)\n",
        "\n",
        "\n",
        "#  SIMPLE MODELS\n",
        "\n",
        "fig, axes = plt.subplots(2, 5, figsize=(22, 8))\n",
        "axes = axes.flatten()\n",
        "for i, ((target, pred), model) in enumerate(zip(simple_models, simple_fitted.values())):\n",
        "    plot_simple_regression(axes[i], df, target, pred, model)\n",
        "plt.tight_layout()\n",
        "plt.show()\n",
        "\n",
        "\n",
        "# MULTIPLE MODELS\n",
        "num_plots = len(multiple_models)\n",
        "plots_per_fig = 4  # 2x2 grid\n",
        "for start in range(0, num_plots, plots_per_fig):\n",
        "    fig, axes = plt.subplots(2, 2, figsize=(15, 12))\n",
        "    axes = axes.flatten()\n",
        "    for i, idx in enumerate(range(start, min(start + plots_per_fig, num_plots))):\n",
        "        (target, preds), model = multiple_models[idx], list(multiple_fitted.values())[idx]\n",
        "        plot_multiple_regression(axes[i], df, target, preds, model)\n",
        "    # Hide unused subplots\n",
        "    for j in range(i+1, 4):\n",
        "        axes[j].axis('off')\n",
        "    plt.tight_layout()\n",
        "    plt.show()\n"
      ],
      "metadata": {
        "id": "4V3gSRheSm0Q"
      },
      "execution_count": null,
      "outputs": []
    },
    {
      "cell_type": "markdown",
      "source": [
        "# Hypthesis Testing"
      ],
      "metadata": {
        "id": "9XpCMBYNVoCg"
      }
    },
    {
      "cell_type": "code",
      "source": [
        "\n",
        "alpha = 0.05  # significance level\n",
        "\n",
        "# -------------------------------\n",
        "# 1. Independent t-test (CGPA by Gender)\n",
        "# -------------------------------\n",
        "male_cgpa = df[df[\"Gender\"] == 0][\"CGPA\"]\n",
        "female_cgpa = df[df[\"Gender\"] == 1][\"CGPA\"]\n",
        "\n",
        "t_stat, p_val = stats.ttest_ind(male_cgpa, female_cgpa, nan_policy=\"omit\")\n",
        "\n",
        "print(\"\\n1.Independent t-test: CGPA by Gender\")\n",
        "print(\"Null hypothesis (H0): Mean CGPA of males = Mean CGPA of females\")\n",
        "print(\"Alternative hypothesis (H1): Mean CGPA of males ≠ Mean CGPA of females\")\n",
        "print()\n",
        "print(\"t-statistic =\", t_stat, \", p-value =\", p_val)\n",
        "print(\"Result:\", \"Reject H0 \" if p_val < alpha else \"Fail to reject H0 \")\n",
        "\n",
        "# -------------------------------\n",
        "# 2. One-way ANOVA (Stress_Level across Year_of_Study groups)\n",
        "# -------------------------------\n",
        "anova_groups = [group[\"Stress_Level\"].dropna() for _, group in df.groupby(\"Year_of_Study\")]\n",
        "\n",
        "f_stat, p_val = stats.f_oneway(*anova_groups)\n",
        "\n",
        "print(\"\\n2.One-way ANOVA: Stress_Level ~ Year_of_Study\")\n",
        "print(\"Null hypothesis (H0): Mean Stress_Level is the same across all years of study\")\n",
        "print(\"Alternative hypothesis (H1): At least one year's mean Stress_Level is different\")\n",
        "print()\n",
        "print(\"F-statistic =\", f_stat, \", p-value =\", p_val)\n",
        "print(\"Result:\", \"Reject H0 \" if p_val < alpha else \"Fail to reject H0 \")\n",
        "\n",
        "# -------------------------------\n",
        "# 3. Correlation test (CGPA vs Anxiety_Level)\n",
        "# -------------------------------\n",
        "corr_coef, p_val = stats.pearsonr(df[\"CGPA\"], df[\"Anxiety_Level\"])\n",
        "\n",
        "print(\"\\n3.Correlation test: CGPA vs Anxiety_Level\")\n",
        "print(\"Null hypothesis (H0): No linear correlation between CGPA and Anxiety_Level (correlation = 0)\")\n",
        "print(\"Alternative hypothesis (H1): There is a linear correlation between CGPA and Anxiety_Level (correlation ≠ 0)\")\n",
        "print()\n",
        "print(\"Correlation coefficient =\", corr_coef, \", p-value =\", p_val)\n",
        "print(\"Result:\", \"Reject H0 \" if p_val < alpha else \"Fail to reject H0 \")\n",
        "\n",
        "# -------------------------------\n",
        "# 4. Proportion test (Chi-square: Gender vs Anxiety High/Low)\n",
        "# -------------------------------\n",
        "df[\"Anxiety_High\"] = (df[\"Anxiety_Level\"] > df[\"Anxiety_Level\"].mean()).astype(int)\n",
        "contingency_table = pd.crosstab(df[\"Gender\"], df[\"Anxiety_High\"])\n",
        "\n",
        "chi2, p_val, dof , expected = stats.chi2_contingency(contingency_table)\n",
        "\n",
        "print(\"\\n4.Proportion test (Chi-square): Gender vs High Anxiety\")\n",
        "print(\"Null hypothesis (H0): Gender and High Anxiety are independent\")\n",
        "print(\"Alternative hypothesis (H1): Gender and High Anxiety are associated\")\n",
        "print()\n",
        "print(\"Contingency table:\\n\", contingency_table)\n",
        "print(\"Chi2 =\", chi2, \", p-value =\", p_val)\n",
        "print(\"Result:\", \"Reject H0 \" if p_val < alpha else \"Fail to reject H0 \")\n"
      ],
      "metadata": {
        "id": "vsYvA85qKPmU"
      },
      "execution_count": null,
      "outputs": []
    },
    {
      "cell_type": "markdown",
      "source": [
        "# APPlication"
      ],
      "metadata": {
        "id": "fX8Z7VBupiwq"
      }
    },
    {
      "cell_type": "code",
      "source": [
        "!pip install streamlit\n",
        "!pip install pyngrok"
      ],
      "metadata": {
        "id": "TS8zawcipnqn"
      },
      "execution_count": null,
      "outputs": []
    },
    {
      "cell_type": "code",
      "source": [
        "# ===============================\n",
        "# Beginner-Friendly Dashboard in Colab (Streamlit)\n",
        "# ===============================\n",
        "%%writefile app.py\n",
        "import pandas as pd\n",
        "import seaborn as sns\n",
        "import matplotlib.pyplot as plt\n",
        "import statsmodels.formula.api as smf\n",
        "import streamlit as st\n",
        "\n",
        "# ===============================\n",
        "# Load your cleaned dataframe\n",
        "# ===============================\n",
        "df = pd.read_csv(\"/content/drive/MyDrive/student_survey.csv\")\n",
        "\n",
        "if df[\"Year_of_Study\"].dtype == \"object\":\n",
        "    df[\"Year_of_Study\"] = df[\"Year_of_Study\"].map({\"1st\": 1, \"2nd\": 2, \"3rd\": 3, \"4th\": 4})\n",
        "\n",
        "if df[\"Gender\"].dtype == \"object\":\n",
        "    df[\"Gender\"] = df[\"Gender\"].map({\"Male\": 1, \"Female\": 0})\n",
        "\n",
        "if df[\"Extracurricular_pariticipation\"].dtype == \"object\":\n",
        "    df[\"Extracurricular_pariticipation\"] = df[\"Extracurricular_pariticipation\"].map({\"Yes\": 1, \"No\": 0})\n",
        "\n",
        "if df[\"PartTime_Job_Status\"].dtype == \"object\":\n",
        "    df[\"PartTime_Job_Status\"] = df[\"PartTime_Job_Status\"].map({\"Yes\": 1, \"No\": 0})\n",
        "\n",
        "#  Handle missing values\n",
        "df = df.dropna(subset=[\"Year_of_Study\"])\n",
        "df[\"CGPA\"] = df[\"CGPA\"].fillna(df[\"CGPA\"].mean())\n",
        "df[\"Extracurricular_Hours\"] = df[\"Extracurricular_Hours\"].fillna(0)\n",
        "df[\"PartTime_Job_Hours\"] = df[\"PartTime_Job_Hours\"].fillna(0)\n",
        "\n",
        "# ===============================\n",
        "# Sidebar Filters\n",
        "# ===============================\n",
        "st.sidebar.header(\"Filter Data\")\n",
        "\n",
        "year_filter = st.sidebar.selectbox(\"Year_of_Study\", [\"All\"] + df[\"Year_of_Study\"].unique().tolist())\n",
        "gender_filter = st.sidebar.selectbox(\"Gender\", [\"All\"] + df[\"Gender\"].unique().tolist())\n",
        "job_filter = st.sidebar.selectbox(\"PartTime_Job_Status\", [\"All\"] + df[\"PartTime_Job_Status\"].unique().tolist())\n",
        "\n",
        "filtered_df = df.copy()\n",
        "if year_filter != \"All\":\n",
        "    filtered_df = filtered_df[filtered_df[\"Year_of_Study\"] == year_filter]\n",
        "if gender_filter != \"All\":\n",
        "    filtered_df = filtered_df[filtered_df[\"Gender\"] == gender_filter]\n",
        "if job_filter != \"All\":\n",
        "    filtered_df = filtered_df[filtered_df[\"PartTime_Job_Status\"] == job_filter]\n",
        "\n",
        "# ===============================\n",
        "# Tab Bar\n",
        "# ===============================\n",
        "tabs = st.tabs([\n",
        "    \"Scatter + Regression\",\n",
        "    #\"Boxplot\",\n",
        "    \"Correlation Heatmap\",\n",
        "    \"Simple Linear Models\",\n",
        "    \"Multiple Linear Models\"\n",
        "])\n",
        "\n",
        "# ===============================\n",
        "# Tab 1: Scatter plot with regression line\n",
        "# ===============================\n",
        "with tabs[0]:\n",
        "    st.subheader(\"Scatter Plot with Regression Line\")\n",
        "    numeric_cols = filtered_df.select_dtypes(include=['int64','float64']).columns.tolist()\n",
        "    if len(numeric_cols) < 2:\n",
        "        st.warning(\"Not enough numeric columns available for regression plot.\")\n",
        "    else:\n",
        "        x_col = st.selectbox(\"Choose X (predictor):\", numeric_cols, key=\"scatter_x\")\n",
        "        y_col = st.selectbox(\"Choose Y (target):\", numeric_cols, key=\"scatter_y\")\n",
        "        fig, ax = plt.subplots()\n",
        "        sns.regplot(x=x_col, y=y_col, data=filtered_df, ax=ax, ci=None)\n",
        "        st.pyplot(fig)\n",
        "    st.markdown(\"---\")\n",
        "    st.subheader(\" / Interpretation\")\n",
        "    st.write(\"This dashboard shows simple Linear regression models scatterplot with regression line.\")\n",
        "\n",
        "\n",
        "# # ===============================\n",
        "# # Tab 2: Boxplot\n",
        "# # ===============================\n",
        "# with tabs[1]:\n",
        "#     st.subheader(\"Boxplot by Group\")\n",
        "#     group_col = st.selectbox(\"Group by:\", df.columns, key=\"box_group\")\n",
        "#     value_col = st.selectbox(\"Value:\", df.select_dtypes(include=['int64','float64']).columns.tolist(), key=\"box_value\")\n",
        "#     fig, ax = plt.subplots()\n",
        "#     sns.boxplot(x=group_col, y=value_col, data=filtered_df, ax=ax)\n",
        "#     st.pyplot(fig)\n",
        "\n",
        "# ===============================\n",
        "# Tab 3: Correlation Heatmap\n",
        "# ===============================\n",
        "with tabs[1]:\n",
        "    st.subheader(\"Correlation Heatmap\")\n",
        "    corr = filtered_df.corr(numeric_only=True)\n",
        "    fig, ax = plt.subplots(figsize=(12,8))\n",
        "    sns.heatmap(corr, annot=True, cmap=\"coolwarm\", ax=ax, fmt=\".3f\")\n",
        "    st.pyplot(fig)\n",
        "    st.markdown(\"---\")\n",
        "    st.subheader(\"Summary/ Interpretation\")\n",
        "    st.write(\"This dashboard shows the correlation using HeatMap.\"\n",
        "              \"This helps us to visualize the correlation among multiple features\")\n",
        "\n",
        "# ===============================\n",
        "# Tab 4: Simple Linear Models\n",
        "# ===============================\n",
        "with tabs[2]:\n",
        "    st.subheader(\"Simple Linear Models (10)\")\n",
        "    simple_models = [\n",
        "        ('Year_of_Study', 'Age'),\n",
        "        ('Extracurricular_Hours', 'Extracurricular_pariticipation'),\n",
        "        ('PartTime_Job_Hours', 'PartTime_Job_Status'),\n",
        "        ('Anxiety_Level', 'Stress_Level'),\n",
        "        ('Sleep_Quality', 'Sleep_Hours'),\n",
        "        ('Year_of_Study', 'Stress_Level'),\n",
        "        ('Anxiety_Level', 'Gender'),\n",
        "        ('Sleep_Hours', 'Stress_Level'),\n",
        "        ('CGPA', 'Age'),\n",
        "        ('Sleep_Quality', 'Gender')\n",
        "    ]\n",
        "\n",
        "    # Show titles\n",
        "    model_options = [f\"{y} ~ {x}\" for y, x in simple_models]\n",
        "    chosen_model = st.selectbox(\"Choose a Simple Model:\", model_options)\n",
        "\n",
        "    # Get correct (y, x) pair from selection\n",
        "    y, x = simple_models[model_options.index(chosen_model)]\n",
        "\n",
        "    if filtered_df[y].dtype == \"object\":\n",
        "        st.error(f\"Cannot run regression because dependent variable `{y}` is non-numeric.\")\n",
        "    else:\n",
        "        # Handle categorical predictor\n",
        "        if filtered_df[x].dtype == \"object\":\n",
        "            formula = f\"Q('{y}') ~ C(Q('{x}'))\"\n",
        "        else:\n",
        "            formula = f\"Q('{y}') ~ Q('{x}')\"\n",
        "        model = smf.ols(formula, data=filtered_df).fit()\n",
        "\n",
        "        st.write(\"**Regression Equation:**\")\n",
        "        st.write(f\"{y} = {model.params[0]:.4f} + {model.params[1]:.4f} * {x}\")\n",
        "        st.write(\"**Coefficients:**\", model.params)\n",
        "        st.write(\"**R²:**\", model.rsquared)\n",
        "    st.markdown(\"---\")\n",
        "    st.subheader(\"Summary\")\n",
        "    st.write(\"This dashboard shows the selected simple linear regression equation, r^2 , coefficient and intercept value.\")\n",
        "\n",
        "\n",
        "# ===============================\n",
        "# Tab 5: Multiple Linear Models\n",
        "# ===============================\n",
        "with tabs[3]:\n",
        "    st.subheader(\"Multiple Linear Models (10)\")\n",
        "    multiple_models = [\n",
        "        ('Stress_Level', ['Anxiety_Level','Year_of_Study','Sleep_Hours']),\n",
        "        ('Sleep_Quality', ['Sleep_Hours','Anxiety_Level','Stress_Level']),\n",
        "        ('Anxiety_Level', ['Stress_Level','Sleep_Hours','Gender']),\n",
        "        ('PartTime_Job_Hours', ['PartTime_Job_Status','Age','Sleep_Quality']),\n",
        "        ('Extracurricular_Hours', ['Extracurricular_pariticipation','Year_of_Study','PartTime_Job_Status']),\n",
        "        ('Year_of_Study', ['Age','Stress_Level','PartTime_Job_Status']),\n",
        "        ('Sleep_Hours', ['Stress_Level','Anxiety_Level','CGPA']),\n",
        "        ('CGPA', ['Study_Hours_per_Week','Age','Sleep_Quality']),\n",
        "        ('Credits_Enrolled', ['Year_of_Study','PartTime_Job_Status','Stress_Level']),\n",
        "        ('Extracurricular_pariticipation', ['Extracurricular_Hours','Gender','Sleep_Hours'])\n",
        "    ]\n",
        "\n",
        "    # Show titles\n",
        "    model_options = [f\"{y} ~ {' + '.join(Xs)}\" for y, Xs in multiple_models]\n",
        "    chosen_model = st.selectbox(\"Choose a Multiple Model:\", model_options)\n",
        "\n",
        "    # Get correct (y, Xs) pair from selection\n",
        "    y, Xs = multiple_models[model_options.index(chosen_model)]\n",
        "\n",
        "    if filtered_df[y].dtype == 'object':\n",
        "        st.error(f\"Cannot run regression because dependent variable `{y}` is non-numeric.\")\n",
        "    else:\n",
        "        predictors = []\n",
        "        for x in Xs:\n",
        "            if filtered_df[x].dtype == 'object':\n",
        "                predictors.append(f\"C(Q('{x}'))\")\n",
        "            else:\n",
        "                predictors.append(f\"Q('{x}')\")\n",
        "        formula = f\"Q('{y}') ~ {' + '.join(predictors)}\"\n",
        "        model = smf.ols(formula, data=filtered_df).fit()\n",
        "\n",
        "        st.write(\"**Regression Equation:**\")\n",
        "        eqn = f\"{y} = {model.params[0]:.4f} \"\n",
        "        for i, coef in enumerate(model.params[1:],1):\n",
        "            eqn += f\"+ {coef:.4f}*{Xs[i-1]} \"\n",
        "        st.write(eqn)\n",
        "        st.write(\"**Coefficients:**\", model.params)\n",
        "        st.write(\"**R²:**\", model.rsquared)\n",
        "\n",
        "    st.markdown(\"---\")\n",
        "    st.subheader(\"Summary/ Interpretation\")\n",
        "    st.write(\"This dashboard shows the selected multiple linear regression equation, r^2 , coefficients and intercept values.\")\n"
      ],
      "metadata": {
        "id": "6ykQgzyUCV52"
      },
      "execution_count": null,
      "outputs": []
    },
    {
      "cell_type": "code",
      "source": [
        "# Launch Streamlit with ngrok tunnel\n",
        "from pyngrok import ngrok\n",
        "\n",
        "# Kill any existing tunnels\n",
        "ngrok.kill()\n",
        "\n",
        "# Replace with your token\n",
        "NGROK_AUTH_TOKEN = \"32eN4jnYOTeqprDbxQMwVwMvE9c_CD4exrJFA55RG12RMrfo\"\n",
        "\n",
        "ngrok.set_auth_token(NGROK_AUTH_TOKEN)\n",
        "print(\"ngrok authentication token set.\")\n",
        "\n",
        "# Set up tunnel on port 8501\n",
        "public_url = ngrok.connect(8501)\n",
        "print(\"Streamlit app will be available at:\", public_url)\n",
        "\n",
        "\n",
        "# Run the app (make sure app_streamlit.py is in your current directory)\n",
        "!streamlit run app.py --server.port 8501 > /dev/null 2>&1 &"
      ],
      "metadata": {
        "id": "GoJcWYkWqNsq"
      },
      "execution_count": null,
      "outputs": []
    }
  ]
}